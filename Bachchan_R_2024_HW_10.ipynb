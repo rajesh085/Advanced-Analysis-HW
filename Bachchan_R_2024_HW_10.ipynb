{
 "cells": [
  {
   "cell_type": "markdown",
   "metadata": {},
   "source": [
    "# Phyiscs Problems - Lectures 22 & 23 - Homework 10\n",
    "\n",
    "FALL 2024\n"
   ]
  },
  {
   "cell_type": "markdown",
   "metadata": {},
   "source": [
    "### 1) Altitude of a satellite\n",
    "\n",
    "A satellite is to be launched into a circular orbit around the Earth so that it orbits the planet once every T seconds.\n",
    "\n",
    "The altitude h above the Earth’s surface that the satellite must have is:\n",
    "\n",
    "$$h = \\left( \\frac{G M T^2}{4\\pi^2} \\right)^{1/3} - R$$\n",
    "\n",
    "where $G = 6.67 \\times 10^{-11}$ m$^3$ kg$^{-1}$ s$^{-2}$\n",
    "is Newton's gravitational constant, $M = 5.97 \\times 10^{24}$ kg is the mass of the Earth, and $R = 6371$ km is its radius.\n",
    "\n",
    "#### Write a function that asks the user to enter the desired value of T and then calculates and prints out the correct altitude in meters.\n"
   ]
  },
  {
   "cell_type": "code",
   "execution_count": 1,
   "metadata": {},
   "outputs": [
    {
     "name": "stdin",
     "output_type": "stream",
     "text": [
      "Enter the value of T in second:  100000\n"
     ]
    },
    {
     "name": "stdout",
     "output_type": "stream",
     "text": [
      "Altitude =  40178334.46876863 m\n"
     ]
    }
   ],
   "source": [
    "import numpy as np\n",
    "\n",
    "# define a function 'altitude' to calculate T\n",
    "def altitude(T):\n",
    "    #code here\n",
    "    G = 6.67E-11       # [m^3 kg^-1 s^-2]\n",
    "    M = 5.97E+24       # [kg]\n",
    "    R = 6371E+3        # [m]\n",
    "    h = (G * M * T**2/(4 * np.pi**2))**(1.0/3.0) - R\n",
    "    return h\n",
    "\n",
    "# use the function\n",
    "T = float(input('Enter the value of T in second: '))\n",
    "print( 'Altitude = ', altitude(T), 'm' )"
   ]
  },
  {
   "cell_type": "markdown",
   "metadata": {},
   "source": [
    "Use your program to calculate the altitudes of satellites that orbit the Earth once\n",
    "a day (so-called “geosynchronous” orbit), once every 90 minutes, and once every\n",
    "45 minutes. What do you conclude from the last of these calculations?\n",
    "\n",
    "\n",
    "\n"
   ]
  },
  {
   "cell_type": "code",
   "execution_count": 2,
   "metadata": {},
   "outputs": [
    {
     "name": "stdout",
     "output_type": "stream",
     "text": [
      "24 hours: Altitude = 35855910.176174976 ; 90 min: Altitude = 279321.6253728606 ;  45 min: Altitude = -2181559.8978108233\n"
     ]
    }
   ],
   "source": [
    "geosync  = 24*3600    # [s]\n",
    "hourhalf = 90*60      # [s]\n",
    "min45    = 45*60      # [s]\n",
    "print(\"24 hours: Altitude =\", altitude(geosync), \"; 90 min: Altitude =\", altitude(hourhalf),\n",
    "      \";  45 min: Altitude =\", altitude(min45))"
   ]
  },
  {
   "cell_type": "markdown",
   "metadata": {},
   "source": [
    "Technically a geosynchronous satellite is one that orbits the Earth once persidereal\n",
    "day, which is 23.93 hours, not 24 hours. Why is this? And how much difference\n",
    "will it make to the altitude of the satellite?"
   ]
  },
  {
   "cell_type": "code",
   "execution_count": 3,
   "metadata": {},
   "outputs": [
    {
     "name": "stdout",
     "output_type": "stream",
     "text": [
      "24 hours: Altitude = 35855910.176174976 ; 90 min: Altitude = 35773762.329895645\n",
      "Difference =  82147.84627933055 m\n"
     ]
    }
   ],
   "source": [
    "persidereal = 23.93 * 3600    # [s]\n",
    "\n",
    "print(\"24 hours: Altitude =\", altitude(geosync), \"; 90 min: Altitude =\", altitude(persidereal))\n",
    "\n",
    "difference = altitude(geosync) - altitude(persidereal)\n",
    "print('Difference = ', difference, 'm')"
   ]
  },
  {
   "cell_type": "markdown",
   "metadata": {},
   "source": [
    "#### Modify your code to calculate the times from 0.5 hour  to 30 days, in steps of 0.5 hours.   Then plot those data points (time vs h) with properly labled axes.  Plot orbits with height below 0 as red, and plots positive heeghts with times less than geosynchronous in blue and those longer in green."
   ]
  },
  {
   "cell_type": "code",
   "execution_count": 4,
   "metadata": {},
   "outputs": [
    {
     "data": {
      "text/plain": [
       "Text(0, 0.5, 'h [m]')"
      ]
     },
     "execution_count": 4,
     "metadata": {},
     "output_type": "execute_result"
    },
    {
     "data": {
      "image/png": "[encoded data removed]",
      "text/plain": [
       "<Figure size 640x480 with 1 Axes>"
      ]
     },
     "metadata": {},
     "output_type": "display_data"
    }
   ],
   "source": [
    "import matplotlib.pyplot as plt\n",
    "\n",
    "Ti = 0.5 * 3600\n",
    "Tf = 30 * 24 * 3600\n",
    "dT = 0.5 * 3600\n",
    "T  = np.arange(Ti, Tf+dT, dT)\n",
    "\n",
    "T_below0   = []\n",
    "H_below0   = []\n",
    "\n",
    "T_less_geo = []\n",
    "H_less_geo = []\n",
    "\n",
    "T_long_geo = []\n",
    "H_long_geo = []\n",
    "\n",
    "for i in T:\n",
    "    h = altitude(i)\n",
    "\n",
    "    if h <= 0:\n",
    "        T_below0.append(i)\n",
    "        H_below0.append(h)\n",
    "    elif h > 0 and i < 24*3600:\n",
    "        T_less_geo.append(i)\n",
    "        H_less_geo.append(h)\n",
    "    else: #h > 0 and i > 24*3600:\n",
    "        T_long_geo.append(i)\n",
    "        H_long_geo.append(h)\n",
    "\n",
    "plt.plot(T_below0, H_below0, \"r\")\n",
    "plt.plot(T_less_geo, H_less_geo, \"b\")\n",
    "plt.plot(T_long_geo, H_long_geo, \"g\")\n",
    "plt.xlabel('T [s]')\n",
    "plt.ylabel('h [m]')\n"
   ]
  },
  {
   "cell_type": "markdown",
   "metadata": {},
   "source": [
    "### 2) Special Relativity\n",
    "\n",
    "A spaceship travels from Earth in a straight line at a (relativistic)\n",
    "speed $v$ to another planet $x$ light years away. Write a program to ask\n",
    "the user for the value of $x$ and the speed $v$ as a fraction of the speed\n",
    "of light, then print out the time in years that the spaceship takes to\n",
    "reach its destination (a) in the rest frame of an observer on Earth\n",
    "and (b) as perceived by a passenger on board the ship.\n",
    "\n",
    "$$x' = \\gamma (x - vt)$$\n",
    "\n",
    "$$t' = \\gamma \\left(t - \\frac{v x}{c^2}\\right)$$\n",
    "\n",
    "$$\\gamma = \\frac{1}{\\sqrt{1 - \\frac{v^2}{c^2}}}$$\n"
   ]
  },
  {
   "cell_type": "code",
   "execution_count": 5,
   "metadata": {},
   "outputs": [],
   "source": [
    "import numpy as np\n",
    "\n",
    "def time(x, v):\n",
    "    # input:  x in lightyear, \n",
    "    #         v in units of c\n",
    "    # output: t, ts in [s]\n",
    "\n",
    "    gamma = 1/np.sqrt(1 - v**2)\n",
    "    t     = x/v       # For an observer O on the earth,\n",
    "    ts    = t/gamma   # For an observer O' in the spaceship,\n",
    "    return t, ts"
   ]
  },
  {
   "cell_type": "markdown",
   "metadata": {},
   "source": [
    "#### Use your program to calculate the answers for a planet 10 light years away with $v = 0.90c$,  $v = 0.98c$, $v = 0.999c$."
   ]
  },
  {
   "cell_type": "code",
   "execution_count": 6,
   "metadata": {},
   "outputs": [
    {
     "name": "stdout",
     "output_type": "stream",
     "text": [
      "Time measured by O is 11.11 years.\n",
      "Time measured by O' is 4.84 years.\n",
      " \n",
      "Time measured by O is 10.20 years.\n",
      "Time measured by O' is 2.03 years.\n",
      " \n",
      "Time measured by O is 10.01 years.\n",
      "Time measured by O' is 0.45 years.\n"
     ]
    }
   ],
   "source": [
    "t, ts = time(10, 0.90)\n",
    "print(\"Time measured by O is {:.2f}\".format(t), 'years.')\n",
    "print(\"Time measured by O' is {:.2f}\".format(ts), 'years.')\n",
    "\n",
    "print(' ')\n",
    "t, ts = time(10, 0.98)\n",
    "print(\"Time measured by O is {:.2f}\".format(t), 'years.')\n",
    "print(\"Time measured by O' is {:.2f}\".format(ts), 'years.')\n",
    "\n",
    "print(' ')\n",
    "t, ts = time(10, 0.999)\n",
    "print(\"Time measured by O is {:.2f}\".format(t), 'years.')\n",
    "print(\"Time measured by O' is {:.2f}\".format(ts), 'years.')"
   ]
  },
  {
   "cell_type": "markdown",
   "metadata": {},
   "source": [
    "### 3) The quadratic equation\n",
    "\n",
    " Write a program that takes as input three numbers, $a$, $b$, and $c$, and prints out the two solutions to the quadratic equation $ax^2 + bx + c = 0$ using the standard\n",
    "formula:\n",
    "\n",
    "$$x = \\frac{-b \\pm \\sqrt{b^2 - 4ac}}{2a}$$\n",
    "\n",
    "Use your program to compute the solutions of $0.001x^2 + 1000x + 0.001 = 0$."
   ]
  },
  {
   "cell_type": "code",
   "execution_count": 7,
   "metadata": {},
   "outputs": [
    {
     "data": {
      "text/plain": [
       "(-9.999894245993346e-07, -999999.999999)"
      ]
     },
     "execution_count": 7,
     "metadata": {},
     "output_type": "execute_result"
    }
   ],
   "source": [
    "def quadratic1(a, b, c):\n",
    "    D  = np.sqrt(b**2 - 4*a*c)\n",
    "    r1 = (-b + D)/(2*a)\n",
    "    r2 = (-b - D)/(2*a)\n",
    "    return r1, r2\n",
    "\n",
    "quadratic1(0.001, 1000, 0.001)"
   ]
  },
  {
   "cell_type": "markdown",
   "metadata": {},
   "source": [
    "There is another way to write the solutions to a quadratic equation. Multiplying top and bottom of the solution above by $-b \\mp \\sqrt{b^2 - 4ac}$, show that the solutions\n",
    "can also be written as:\n",
    "\n",
    "$$x = \\frac{2c}{-b \\mp \\sqrt{b^2 - 4ac}}$$\n",
    "\n",
    "Add further lines to your program to print these values in addition to the earlier ones and again use the program to solve $0.001x^2 + 1000x + 0.001 = 0$. What do you see? How do you explain it?"
   ]
  },
  {
   "cell_type": "code",
   "execution_count": 8,
   "metadata": {},
   "outputs": [
    {
     "data": {
      "text/plain": [
       "(-1.000000000001e-06, -1000010.5755125057)"
      ]
     },
     "execution_count": 8,
     "metadata": {},
     "output_type": "execute_result"
    }
   ],
   "source": [
    "def quadratic2(a, b, c):\n",
    "    D  = np.sqrt(b**2 - 4*a*c)\n",
    "    r1 = 2*c/(-b - D)\n",
    "    r2 = 2*c/(-b + D)\n",
    "    return r1, r2\n",
    "\n",
    "quadratic2(0.001, 1000, 0.001)\n",
    "\n",
    "# sqrt(b^2 - 4ac) = sqrt(10^6 - 4*10^-6) = 1000 (approx). There is loss in accuracy due to finite precision of a machine."
   ]
  },
  {
   "cell_type": "markdown",
   "metadata": {},
   "source": [
    "Using what you have learned, write a new program that calculates both roots of a quadratic equation accurately in all cases. \n",
    "\n",
    "__(NOTE: MANY Online quadratic equation are WRONG, so careful how you check!!!).__"
   ]
  },
  {
   "cell_type": "code",
   "execution_count": 9,
   "metadata": {},
   "outputs": [
    {
     "data": {
      "text/plain": [
       "(-1.000000000001e-06, -999999.999999)"
      ]
     },
     "execution_count": 9,
     "metadata": {},
     "output_type": "execute_result"
    }
   ],
   "source": [
    "def quadratic(a, b, c):\n",
    "    D  = np.sqrt(b**2 - 4*a*c)\n",
    "\n",
    "    if D >= 0:\n",
    "        r1 = 2*c/(-b - D)\n",
    "        r2 = (-b - D)/(2*a)\n",
    "    else:\n",
    "        r1 = (-b + D)/(2*a)\n",
    "        r2 = 2*c/(-b + D)\n",
    "    \n",
    "    return r1, r2\n",
    "\n",
    "quadratic(0.001, 1000, 0.001)"
   ]
  }
 ],
 "metadata": {
  "kernelspec": {
   "display_name": "Python 3 (ipykernel)",
   "language": "python",
   "name": "python3"
  },
  "language_info": {
   "codemirror_mode": {
    "name": "ipython",
    "version": 3
   },
   "file_extension": ".py",
   "mimetype": "text/x-python",
   "name": "python",
   "nbconvert_exporter": "python",
   "pygments_lexer": "ipython3",
   "version": "3.12.4"
  }
 },
 "nbformat": 4,
 "nbformat_minor": 4
}
